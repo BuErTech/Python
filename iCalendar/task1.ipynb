{
 "cells": [
  {
   "cell_type": "code",
   "execution_count": 37,
   "metadata": {},
   "outputs": [
    {
     "name": "stdout",
     "output_type": "stream",
     "text": [
      "name: payton's birthday\n",
      "begin: 20190522 00:00\n",
      "end: 20190523 00:00\n"
     ]
    }
   ],
   "source": [
    "# ics数据写入\n",
    "from ics import Calendar, Event\n",
    "\n",
    "c = Calendar()\n",
    "c.version = \"2.0\"\n",
    "c.prodid =\"-//Payton Inc//Payton Calendar\"\n",
    "#创建事件\n",
    "e = Event()\n",
    "name = input(\"name: \")\n",
    "begin = input(\"begin: \")\n",
    "end = input(\"end: \")\n",
    "e.name = name\n",
    "e.begin = begin\n",
    "e.end   = end\n",
    "c.events.add(e)\n",
    "c.events\n",
    "#写入事件\n",
    "with open('payton.ics', 'a+') as f:\n",
    "    addData = f.writelines(c)\n",
    "    "
   ]
  },
  {
   "cell_type": "code",
   "execution_count": 19,
   "metadata": {},
   "outputs": [
    {
     "name": "stdout",
     "output_type": "stream",
     "text": [
      "[<Event 'payton's birthday' begin:2019-05-22T00:00:00+00:00 end:2019-05-23T00:00:00+00:00>]\n"
     ]
    },
    {
     "data": {
      "text/plain": [
       "\"Event 'payton's birthday' started in 4 months\""
      ]
     },
     "execution_count": 19,
     "metadata": {},
     "output_type": "execute_result"
    }
   ],
   "source": [
    "# ics数据读取\n",
    "from ics import Calendar, Event\n",
    "#解码并读取\n",
    "f = open('payton.ics', 'rb')\n",
    "c = Calendar(f.read().decode('iso-8859-1'))\n",
    "s=c.events\n",
    "#显示事件的结果\n",
    "print(s)\n",
    "e = c.events[0]\n",
    "\"Event '{}' started {}\".format(e.name, e.begin.humanize())\n"
   ]
  },
  {
   "cell_type": "code",
   "execution_count": null,
   "metadata": {},
   "outputs": [],
   "source": []
  },
  {
   "cell_type": "code",
   "execution_count": null,
   "metadata": {},
   "outputs": [],
   "source": []
  },
  {
   "cell_type": "code",
   "execution_count": null,
   "metadata": {},
   "outputs": [],
   "source": []
  },
  {
   "cell_type": "code",
   "execution_count": null,
   "metadata": {},
   "outputs": [],
   "source": []
  }
 ],
 "metadata": {
  "kernelspec": {
   "display_name": "Python 3",
   "language": "python",
   "name": "python3"
  },
  "language_info": {
   "codemirror_mode": {
    "name": "ipython",
    "version": 3
   },
   "file_extension": ".py",
   "mimetype": "text/x-python",
   "name": "python",
   "nbconvert_exporter": "python",
   "pygments_lexer": "ipython3",
   "version": "3.7.1"
  }
 },
 "nbformat": 4,
 "nbformat_minor": 2
}
